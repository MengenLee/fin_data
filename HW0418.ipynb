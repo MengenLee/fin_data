import pandas as pd
url1 ="https://raw.githubusercontent.com/BinglinChang/fin_data/main/"
url2 ="https://raw.githubusercontent.com/MengenLee/fin_data/main/"
url3 ="https://raw.githubusercontent.com/leo920609/Llll/main/"

list1=["2601","2603","2605","2606","2607","2608","2609","2610","2611","2612"]
list2=["1201","1203","1210","1213","1215","1216","1217","1218","1225","1227"]
list3=["2330","2317","6505","2412","1301","1303","1326","2882","2881","2002"]
listfinal = list1 + list2 + list3

for i in listfinal:
    url = url1+ i + ".csv"
    df = pd.read_csv(url, index_col=0)
    display(df.head(5))
    df.to_csv(i+'TW.csv')