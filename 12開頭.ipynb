!pip install yfinance
import yfinance as yf
list1 = ["1201.TW", "1203.TW", "1210.TW", "1213.TW", "1215.TW", "1216.TW", "1217.TW", "1218.TW", "1225.TW", "1227.TW"]

for i in list1:
    df = yf.download(i, start="2020-01-01", end="2023-12-31")
    df.to_csv(i + ".csv")